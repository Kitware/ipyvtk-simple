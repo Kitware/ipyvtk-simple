{
 "cells": [
  {
   "cell_type": "code",
   "execution_count": null,
   "metadata": {},
   "outputs": [],
   "source": [
    "from functools import wraps\n",
    "\n",
    "import pyvista as pv\n",
    "\n",
    "from ipyvtklink.viewer import ViewInteractiveWidget\n",
    "\n",
    "\n",
    "class iPlotter(pv.Plotter):\n",
    "    \"\"\"Wrapping of PyVista's Plotter to be used interactively in Jupyter.\"\"\"\n",
    "\n",
    "    def __init__(self, *args, **kwargs):\n",
    "        transparent_background = kwargs.pop('transparent_background', pv.rcParams['transparent_background'])\n",
    "        kwargs[\"notebook\"] = False\n",
    "        kwargs[\"off_screen\"] = False\n",
    "        pv.Plotter.__init__(self, *args, **kwargs)\n",
    "        self.ren_win.SetOffScreenRendering(1)\n",
    "        self.off_screen = True\n",
    "        self._widget = ViewInteractiveWidget(self.ren_win, transparent_background=transparent_background)\n",
    "\n",
    "\n",
    "    @wraps(pv.Plotter.show)\n",
    "    def show(self, *args, **kwargs):\n",
    "        kwargs[\"auto_close\"] = False\n",
    "        _ = pv.Plotter.show(self, *args, **kwargs) # Incase the user sets the cpos or something\n",
    "        return self.widget\n",
    "\n",
    "    @property\n",
    "    def widget(self):\n",
    "        self._widget.full_render()\n",
    "        return self._widget"
   ]
  },
  {
   "cell_type": "code",
   "execution_count": null,
   "metadata": {},
   "outputs": [],
   "source": [
    "mesh = pv.Wavelet()\n",
    "\n",
    "p = iPlotter()\n",
    "p.add_mesh_clip_box(mesh)\n",
    "p.show()"
   ]
  },
  {
   "cell_type": "code",
   "execution_count": null,
   "metadata": {},
   "outputs": [],
   "source": [
    "from pyvista import examples\n",
    "\n",
    "volume = examples.download_knee_full()\n",
    "opacity = [0, 0, 0, 0.1, 0.3, 0.6, 1]\n",
    "\n",
    "plotter = iPlotter()\n",
    "plotter.add_volume(volume, opacity=opacity)\n",
    "plotter.show()"
   ]
  },
  {
   "cell_type": "code",
   "execution_count": null,
   "metadata": {},
   "outputs": [],
   "source": [
    "topo = examples.load_random_hills()\n",
    "\n",
    "# create a subset of arrows using the glyph filter\n",
    "arrows = topo.glyph(scale=\"Normals\", orient=\"Normals\", tolerance=0.05)\n",
    "\n",
    "p = iPlotter()\n",
    "p.add_mesh(arrows, color=\"black\")\n",
    "p.add_mesh(topo, scalars=\"Elevation\", cmap=\"terrain\")\n",
    "p.show()"
   ]
  },
  {
   "cell_type": "code",
   "execution_count": null,
   "metadata": {},
   "outputs": [],
   "source": []
  }
 ],
 "metadata": {
  "kernelspec": {
   "display_name": "Python [conda env:pyvista-env] *",
   "language": "python",
   "name": "conda-env-pyvista-env-py"
  },
  "language_info": {
   "codemirror_mode": {
    "name": "ipython",
    "version": 3
   },
   "file_extension": ".py",
   "mimetype": "text/x-python",
   "name": "python",
   "nbconvert_exporter": "python",
   "pygments_lexer": "ipython3",
   "version": "3.8.2"
  }
 },
 "nbformat": 4,
 "nbformat_minor": 4
}
