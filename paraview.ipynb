{
 "cells": [
  {
   "cell_type": "code",
   "execution_count": null,
   "metadata": {},
   "outputs": [],
   "source": [
    "import paraview.simple as pvs\n",
    "from ipyvtklink.viewer import ViewInteractiveWidget"
   ]
  },
  {
   "cell_type": "code",
   "execution_count": null,
   "metadata": {},
   "outputs": [],
   "source": [
    "# Create data on the pipeline\n",
    "wavelet = pvs.Wavelet()\n",
    "contour = pvs.Contour(Input=wavelet)\n",
    "contour.ContourBy = ['POINTS', 'RTData']\n",
    "contour.Isosurfaces = [63, 143, 170, 197, 276]\n",
    "\n",
    "# Set the data as visible\n",
    "pvs.Show(contour)\n",
    "\n",
    "# Fetch the view and render the scene\n",
    "view = pvs.GetActiveView()\n",
    "pvs.Render(view)"
   ]
  },
  {
   "cell_type": "code",
   "execution_count": null,
   "metadata": {},
   "outputs": [],
   "source": [
    "# Fetch the RenderWindow\n",
    "ren_win = view.GetClientSideObject().GetRenderWindow()\n",
    "# Display the RenderWindow with the widget\n",
    "ViewInteractiveWidget(ren_win)"
   ]
  },
  {
   "cell_type": "code",
   "execution_count": null,
   "metadata": {},
   "outputs": [],
   "source": [
    "# Create a second view\n",
    "view_2 = pvs.CreateView('RenderView')\n",
    "\n",
    "sphere = pvs.Sphere(ThetaResolution=16, PhiResolution=32)\n",
    "shrink = pvs.Shrink(sphere)\n",
    "\n",
    "pvs.Show(shrink, view_2)\n",
    "\n",
    "ren_win_2 = view_2.GetClientSideObject().GetRenderWindow()\n",
    "# Display the RenderWindow with the widget\n",
    "ViewInteractiveWidget(ren_win_2)"
   ]
  },
  {
   "cell_type": "code",
   "execution_count": null,
   "metadata": {},
   "outputs": [],
   "source": []
  }
 ],
 "metadata": {
  "kernelspec": {
   "display_name": "Python 3",
   "language": "python",
   "name": "python3"
  },
  "language_info": {
   "codemirror_mode": {
    "name": "ipython",
    "version": 3
   },
   "file_extension": ".py",
   "mimetype": "text/x-python",
   "name": "python",
   "nbconvert_exporter": "python",
   "pygments_lexer": "ipython3",
   "version": "3.8.2"
  }
 },
 "nbformat": 4,
 "nbformat_minor": 4
}
