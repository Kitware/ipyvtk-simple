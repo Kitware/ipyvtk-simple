{
 "cells": [
  {
   "cell_type": "code",
   "execution_count": null,
   "metadata": {},
   "outputs": [],
   "source": [
    "import vtk\n",
    "from ipyvtklink.viewer import ViewInteractiveWidget\n",
    "\n",
    "# Create some data\n",
    "cylinder = vtk.vtkCylinderSource()\n",
    "cylinder.SetResolution(8)\n",
    "mapper = vtk.vtkPolyDataMapper()\n",
    "mapper.SetInputConnection(cylinder.GetOutputPort())\n",
    "actor = vtk.vtkActor()\n",
    "actor.SetMapper(mapper)\n",
    "\n",
    "# Set up render window\n",
    "ren = vtk.vtkRenderer()\n",
    "ren_win = vtk.vtkRenderWindow()\n",
    "ren_win.SetOffScreenRendering(1)\n",
    "ren_win.SetSize(600, 600)\n",
    "ren_win.AddRenderer(ren)\n",
    "iren = vtk.vtkRenderWindowInteractor()\n",
    "iren.SetRenderWindow(ren_win)\n",
    "style = vtk.vtkInteractorStyleTrackballCamera()\n",
    "iren.SetInteractorStyle(style)\n",
    "\n",
    "# Add actor to scene\n",
    "ren.AddActor(actor)\n",
    "ren.ResetCamera()\n",
    "\n",
    "# Display\n",
    "ViewInteractiveWidget(ren_win)"
   ]
  },
  {
   "cell_type": "code",
   "execution_count": null,
   "metadata": {},
   "outputs": [],
   "source": []
  }
 ],
 "metadata": {
  "kernelspec": {
   "display_name": "Python [conda env:pyvista-env] *",
   "language": "python",
   "name": "conda-env-pyvista-env-py"
  },
  "language_info": {
   "codemirror_mode": {
    "name": "ipython",
    "version": 3
   },
   "file_extension": ".py",
   "mimetype": "text/x-python",
   "name": "python",
   "nbconvert_exporter": "python",
   "pygments_lexer": "ipython3",
   "version": "3.8.2"
  }
 },
 "nbformat": 4,
 "nbformat_minor": 4
}
